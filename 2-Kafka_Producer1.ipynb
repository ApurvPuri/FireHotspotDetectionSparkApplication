{
 "cells": [
  {
   "cell_type": "markdown",
   "metadata": {},
   "source": [
    "## Event Producer 1 \n",
    "### Simulating real-time data using Apache Kafka Producer\n",
    "\n",
    "Required library: geohash\n",
    "Installation command: pip3 install geohash\n",
    "\n",
    "\n",
    "First, import all required libraries. \n"
   ]
  },
  {
   "cell_type": "code",
   "execution_count": 1,
   "metadata": {},
   "outputs": [],
   "source": [
    "import pymongo\n",
    "from pymongo import MongoClient\n",
    "from datetime import datetime, date\n",
    "from pprint import pprint\n",
    "import geohash"
   ]
  },
  {
   "cell_type": "markdown",
   "metadata": {},
   "source": [
    "then initial the data type for each columns in two input files."
   ]
  },
  {
   "cell_type": "code",
   "execution_count": 2,
   "metadata": {},
   "outputs": [],
   "source": [
    "integer_attr = ['air_temperature_celcius', 'surface_temperature_celcius', 'confidence', ]\n",
    "float_attr = ['relative_humidity', 'windspeed_knots', 'max_wind_speed', 'latitude', 'longitude']\n",
    "date_arrt = ['date']\n",
    "datetime_attr = ['datetime']"
   ]
  },
  {
   "cell_type": "markdown",
   "metadata": {},
   "source": [
    "The following function will read the CSV data and transform each record into a python dict by using the column name on the first line as a key for the python dictionary. Then all dictionary object of record will be stored in a list.\n"
   ]
  },
  {
   "cell_type": "code",
   "execution_count": 3,
   "metadata": {},
   "outputs": [],
   "source": [
    "def csv2dict(file_path, delim):\n",
    "    \n",
    "    header_names = []\n",
    "    is_header_first = True\n",
    "    \n",
    "    result = []\n",
    "    \n",
    "    for line in open(file_path):\n",
    "        tmp_row = {}\n",
    "        \n",
    "        line = line.strip()\n",
    "        \n",
    "        if len(line) == 0:\n",
    "            continue\n",
    "            \n",
    "        if is_header_first:\n",
    "            header_names = line.split(delim)\n",
    "            is_header_first = False\n",
    "            continue\n",
    "                \n",
    "        tmp_data = line.split(delim)\n",
    "\n",
    "        for i in range(len(header_names)):\n",
    "            #the string data will be re-cating into the right data type using the column name and data type that declared on above  \n",
    "            if header_names[i].strip() in integer_attr:\n",
    "                tmp_row[header_names[i].strip()] = int(tmp_data[i].strip())\n",
    "            elif header_names[i].strip() in float_attr:\n",
    "                tmp_row[header_names[i].strip()] = float(tmp_data[i].strip())\n",
    "            elif header_names[i].strip() in date_arrt:\n",
    "                tmp_row[header_names[i].strip()] = datetime.strptime(tmp_data[i].strip(), '%d/%m/%Y')\n",
    "            elif header_names[i].strip() in datetime_attr:\n",
    "                tmp_row[header_names[i].strip()] = datetime.strptime(tmp_data[i].strip(), '%Y-%m-%dT%H:%M:%S')\n",
    "            else :\n",
    "                tmp_row[header_names[i].strip()] = tmp_data[i].strip()\n",
    "                \n",
    "        result.append(tmp_row)\n",
    "        \n",
    "    return result"
   ]
  },
  {
   "cell_type": "code",
   "execution_count": 4,
   "metadata": {},
   "outputs": [],
   "source": [
    "climate_streaming = \"./climate_streaming.csv\"\n",
    "climate_streaming_dict = csv2dict(climate_streaming, ',')"
   ]
  },
  {
   "cell_type": "code",
   "execution_count": 5,
   "metadata": {},
   "outputs": [],
   "source": [
    "for item in climate_streaming_dict:\n",
    "    item.update({\"sender_id\": \"1\"})\n",
    "    item.update({\"geo_hash\": geohash.encode(item[\"latitude\"], item[\"longitude\"], precision=5)})\n",
    "    "
   ]
  },
  {
   "cell_type": "markdown",
   "metadata": {},
   "source": [
    "#### Main Function"
   ]
  },
  {
   "cell_type": "code",
   "execution_count": null,
   "metadata": {},
   "outputs": [
    {
     "name": "stdout",
     "output_type": "stream",
     "text": [
      "Publishing records..\n",
      "Message published successfully. Data: {\"windspeed_knots\": 9.5, \"longitude\": 143.1062, \"air_temperature_celcius\": 17, \"created_time\": \"2019-05-24 15:13:21.257087\", \"max_wind_speed\": 20.0, \"latitude\": -37.8147, \"precipitation\": \"0.00I\", \"relative_humidity\": 46.4, \"geo_hash\": \"r1mbb\", \"sender_id\": \"1\"}\n",
      "Message published successfully. Data: {\"windspeed_knots\": 7.2, \"longitude\": 141.088, \"air_temperature_celcius\": 9, \"created_time\": \"2019-05-24 15:13:26.276021\", \"max_wind_speed\": 9.9, \"latitude\": -35.957, \"precipitation\": \"0.00I\", \"relative_humidity\": 42.4, \"geo_hash\": \"r1s76\", \"sender_id\": \"1\"}\n",
      "Message published successfully. Data: {\"windspeed_knots\": 16.1, \"longitude\": 144.17, \"air_temperature_celcius\": 18, \"created_time\": \"2019-05-24 15:13:31.288187\", \"max_wind_speed\": 21.0, \"latitude\": -37.863, \"precipitation\": \"0.00G\", \"relative_humidity\": 57.5, \"geo_hash\": \"r1q88\", \"sender_id\": \"1\"}\n",
      "Message published successfully. Data: {\"windspeed_knots\": 7.7, \"longitude\": 147.172, \"air_temperature_celcius\": 24, \"created_time\": \"2019-05-24 15:13:36.297929\", \"max_wind_speed\": 14.0, \"latitude\": -38.231, \"precipitation\": \"0.00I\", \"relative_humidity\": 61.6, \"geo_hash\": \"r30ws\", \"sender_id\": \"1\"}\n",
      "Message published successfully. Data: {\"windspeed_knots\": 10.5, \"longitude\": 149.263, \"air_temperature_celcius\": 20, \"created_time\": \"2019-05-24 15:13:41.315425\", \"max_wind_speed\": 15.9, \"latitude\": -37.642, \"precipitation\": \"0.01G\", \"relative_humidity\": 55.8, \"geo_hash\": \"r361u\", \"sender_id\": \"1\"}\n",
      "Message published successfully. Data: {\"windspeed_knots\": 10.2, \"longitude\": 145.606, \"air_temperature_celcius\": 15, \"created_time\": \"2019-05-24 15:13:46.332188\", \"max_wind_speed\": 15.0, \"latitude\": -35.89, \"precipitation\": \"0.00G\", \"relative_humidity\": 45.6, \"geo_hash\": \"r1xec\", \"sender_id\": \"1\"}\n",
      "Message published successfully. Data: {\"windspeed_knots\": 4.7, \"longitude\": 142.5446, \"air_temperature_celcius\": 8, \"created_time\": \"2019-05-24 15:13:51.345455\", \"max_wind_speed\": 13.0, \"latitude\": -36.827, \"precipitation\": \"0.02G\", \"relative_humidity\": 39.3, \"geo_hash\": \"r1mq7\", \"sender_id\": \"1\"}\n",
      "Message published successfully. Data: {\"windspeed_knots\": 6.7, \"longitude\": 143.1189, \"air_temperature_celcius\": 12, \"created_time\": \"2019-05-24 15:13:56.360372\", \"max_wind_speed\": 11.1, \"latitude\": -36.4125, \"precipitation\": \"0.00G\", \"relative_humidity\": 47.9, \"geo_hash\": \"r1tbb\", \"sender_id\": \"1\"}\n",
      "Message published successfully. Data: {\"windspeed_knots\": 7.3, \"longitude\": 149.311, \"air_temperature_celcius\": 14, \"created_time\": \"2019-05-24 15:14:01.373012\", \"max_wind_speed\": 14.0, \"latitude\": -37.602, \"precipitation\": \"0.00G\", \"relative_humidity\": 48.5, \"geo_hash\": \"r364j\", \"sender_id\": \"1\"}\n",
      "Message published successfully. Data: {\"windspeed_knots\": 11.9, \"longitude\": 144.174, \"air_temperature_celcius\": 28, \"created_time\": \"2019-05-24 15:14:06.380566\", \"max_wind_speed\": 18.1, \"latitude\": -37.864, \"precipitation\": \"0.04G\", \"relative_humidity\": 58.4, \"geo_hash\": \"r1q88\", \"sender_id\": \"1\"}\n",
      "Message published successfully. Data: {\"windspeed_knots\": 11.7, \"longitude\": 145.1635, \"air_temperature_celcius\": 17, \"created_time\": \"2019-05-24 15:14:11.392435\", \"max_wind_speed\": 20.0, \"latitude\": -36.778, \"precipitation\": \"0.02G\", \"relative_humidity\": 46.3, \"geo_hash\": \"r1rnz\", \"sender_id\": \"1\"}\n",
      "Message published successfully. Data: {\"windspeed_knots\": 8.9, \"longitude\": 149.307, \"air_temperature_celcius\": 18, \"created_time\": \"2019-05-24 15:14:16.412374\", \"max_wind_speed\": 15.0, \"latitude\": -37.61, \"precipitation\": \"0.01G\", \"relative_humidity\": 55.5, \"geo_hash\": \"r364j\", \"sender_id\": \"1\"}\n",
      "Message published successfully. Data: {\"windspeed_knots\": 2.5, \"longitude\": 148.117, \"air_temperature_celcius\": 9, \"created_time\": \"2019-05-24 15:14:21.420277\", \"max_wind_speed\": 6.0, \"latitude\": -36.851, \"precipitation\": \"0.00G\", \"relative_humidity\": 45.3, \"geo_hash\": \"r33q6\", \"sender_id\": \"1\"}\n",
      "Message published successfully. Data: {\"windspeed_knots\": 7.7, \"longitude\": 143.6131, \"air_temperature_celcius\": 19, \"created_time\": \"2019-05-24 15:14:26.444319\", \"max_wind_speed\": 11.1, \"latitude\": -36.9194, \"precipitation\": \"0.00I\", \"relative_humidity\": 50.3, \"geo_hash\": \"r1qjg\", \"sender_id\": \"1\"}\n",
      "Message published successfully. Data: {\"windspeed_knots\": 8.8, \"longitude\": 148.083, \"air_temperature_celcius\": 10, \"created_time\": \"2019-05-24 15:14:31.456876\", \"max_wind_speed\": 14.0, \"latitude\": -37.327, \"precipitation\": \"0.39G\", \"relative_humidity\": 44.8, \"geo_hash\": \"r3379\", \"sender_id\": \"1\"}\n",
      "Message published successfully. Data: {\"windspeed_knots\": 11.5, \"longitude\": 145.286, \"air_temperature_celcius\": 11, \"created_time\": \"2019-05-24 15:14:36.463981\", \"max_wind_speed\": 18.1, \"latitude\": -36.398, \"precipitation\": \"0.20G\", \"relative_humidity\": 45.1, \"geo_hash\": \"r1x2f\", \"sender_id\": \"1\"}\n",
      "Message published successfully. Data: {\"windspeed_knots\": 5.7, \"longitude\": 142.785, \"air_temperature_celcius\": 6, \"created_time\": \"2019-05-24 15:14:41.480569\", \"max_wind_speed\": 11.1, \"latitude\": -36.275, \"precipitation\": \"0.00I\", \"relative_humidity\": 30.8, \"geo_hash\": \"r1t99\", \"sender_id\": \"1\"}\n",
      "Message published successfully. Data: {\"windspeed_knots\": 5.6, \"longitude\": 148.109, \"air_temperature_celcius\": 11, \"created_time\": \"2019-05-24 15:14:46.488936\", \"max_wind_speed\": 9.9, \"latitude\": -37.463, \"precipitation\": \"0.00I\", \"relative_humidity\": 45.1, \"geo_hash\": \"r336f\", \"sender_id\": \"1\"}\n",
      "Message published successfully. Data: {\"windspeed_knots\": 11.2, \"longitude\": 148.117, \"air_temperature_celcius\": 11, \"created_time\": \"2019-05-24 15:14:51.494409\", \"max_wind_speed\": 16.9, \"latitude\": -37.478, \"precipitation\": \"0.12G\", \"relative_humidity\": 43.9, \"geo_hash\": \"r336f\", \"sender_id\": \"1\"}\n",
      "Message published successfully. Data: {\"windspeed_knots\": 7.2, \"longitude\": 143.375, \"air_temperature_celcius\": 21, \"created_time\": \"2019-05-24 15:14:56.500695\", \"max_wind_speed\": 13.0, \"latitude\": -37.332, \"precipitation\": \"0.00I\", \"relative_humidity\": 51.7, \"geo_hash\": \"r1mgw\", \"sender_id\": \"1\"}\n",
      "Message published successfully. Data: {\"windspeed_knots\": 3.8, \"longitude\": 145.363, \"air_temperature_celcius\": 13, \"created_time\": \"2019-05-24 15:15:01.510370\", \"max_wind_speed\": 9.9, \"latitude\": -37.087, \"precipitation\": \"0.01G\", \"relative_humidity\": 49.4, \"geo_hash\": \"r1rm5\", \"sender_id\": \"1\"}\n",
      "Message published successfully. Data: {\"windspeed_knots\": 4.7, \"longitude\": 143.885, \"air_temperature_celcius\": 20, \"created_time\": \"2019-05-24 15:15:06.525014\", \"max_wind_speed\": 11.1, \"latitude\": -36.1858, \"precipitation\": \"0.01G\", \"relative_humidity\": 58.4, \"geo_hash\": \"r1w64\", \"sender_id\": \"1\"}\n",
      "Message published successfully. Data: {\"windspeed_knots\": 12.0, \"longitude\": 145.7665, \"air_temperature_celcius\": 18, \"created_time\": \"2019-05-24 15:15:11.542393\", \"max_wind_speed\": 25.1, \"latitude\": -36.0714, \"precipitation\": \"0.12G\", \"relative_humidity\": 54.6, \"geo_hash\": \"r1xdu\", \"sender_id\": \"1\"}\n",
      "Message published successfully. Data: {\"windspeed_knots\": 12.4, \"longitude\": 145.623, \"air_temperature_celcius\": 21, \"created_time\": \"2019-05-24 15:15:16.564142\", \"max_wind_speed\": 21.0, \"latitude\": -37.978, \"precipitation\": \"0.00I\", \"relative_humidity\": 59.5, \"geo_hash\": \"r1pxc\", \"sender_id\": \"1\"}\n",
      "Message published successfully. Data: {\"windspeed_knots\": 8.3, \"longitude\": 141.145, \"air_temperature_celcius\": 8, \"created_time\": \"2019-05-24 15:15:21.584970\", \"max_wind_speed\": 15.9, \"latitude\": -37.238, \"precipitation\": \"0.24G\", \"relative_humidity\": 41.6, \"geo_hash\": \"r1kk5\", \"sender_id\": \"1\"}\n",
      "Message published successfully. Data: {\"windspeed_knots\": 12.2, \"longitude\": 144.386, \"air_temperature_celcius\": 11, \"created_time\": \"2019-05-24 15:15:26.600587\", \"max_wind_speed\": 20.0, \"latitude\": -37.296, \"precipitation\": \"0.24G\", \"relative_humidity\": 40.8, \"geo_hash\": \"r1qev\", \"sender_id\": \"1\"}\n",
      "Message published successfully. Data: {\"windspeed_knots\": 5.8, \"longitude\": 146.151, \"air_temperature_celcius\": 19, \"created_time\": \"2019-05-24 15:15:31.608276\", \"max_wind_speed\": 8.9, \"latitude\": -36.285, \"precipitation\": \"0.00I\", \"relative_humidity\": 56.3, \"geo_hash\": \"r1xct\", \"sender_id\": \"1\"}\n",
      "Message published successfully. Data: {\"windspeed_knots\": 11.9, \"longitude\": 143.185, \"air_temperature_celcius\": 28, \"created_time\": \"2019-05-24 15:15:36.620971\", \"max_wind_speed\": 22.0, \"latitude\": -36.009, \"precipitation\": \"0.00I\", \"relative_humidity\": 48.3, \"geo_hash\": \"r1tg4\", \"sender_id\": \"1\"}\n"
     ]
    },
    {
     "name": "stdout",
     "output_type": "stream",
     "text": [
      "Message published successfully. Data: {\"windspeed_knots\": 6.7, \"longitude\": 143.1189, \"air_temperature_celcius\": 12, \"created_time\": \"2019-05-24 15:15:41.628271\", \"max_wind_speed\": 11.1, \"latitude\": -36.4125, \"precipitation\": \"0.00G\", \"relative_humidity\": 47.9, \"geo_hash\": \"r1tbb\", \"sender_id\": \"1\"}\n",
      "Message published successfully. Data: {\"windspeed_knots\": 7.8, \"longitude\": 143.8907, \"air_temperature_celcius\": 21, \"created_time\": \"2019-05-24 15:15:46.645426\", \"max_wind_speed\": 13.0, \"latitude\": -36.0459, \"precipitation\": \"0.00I\", \"relative_humidity\": 58.7, \"geo_hash\": \"r1w6f\", \"sender_id\": \"1\"}\n",
      "Message published successfully. Data: {\"windspeed_knots\": 8.7, \"longitude\": 149.261, \"air_temperature_celcius\": 26, \"created_time\": \"2019-05-24 15:15:51.667615\", \"max_wind_speed\": 15.0, \"latitude\": -37.627, \"precipitation\": \"0.00I\", \"relative_humidity\": 53.7, \"geo_hash\": \"r361u\", \"sender_id\": \"1\"}\n",
      "Message published successfully. Data: {\"windspeed_knots\": 9.3, \"longitude\": 144.3142, \"air_temperature_celcius\": 26, \"created_time\": \"2019-05-24 15:15:56.683980\", \"max_wind_speed\": 15.0, \"latitude\": -36.4325, \"precipitation\": \"0.20G\", \"relative_humidity\": 61.0, \"geo_hash\": \"r1w8e\", \"sender_id\": \"1\"}\n",
      "Message published successfully. Data: {\"windspeed_knots\": 10.4, \"longitude\": 144.1375, \"air_temperature_celcius\": 20, \"created_time\": \"2019-05-24 15:16:01.699122\", \"max_wind_speed\": 16.9, \"latitude\": -37.1405, \"precipitation\": \"0.08G\", \"relative_humidity\": 60.8, \"geo_hash\": \"r1qkx\", \"sender_id\": \"1\"}\n"
     ]
    }
   ],
   "source": [
    "# import statements\n",
    "from time import sleep\n",
    "import json\n",
    "from kafka import KafkaProducer\n",
    "import random\n",
    "import datetime\n",
    "\n",
    "\n",
    "lines = climate_streaming_dict\n",
    "\n",
    "def publish_message(producer_instance, topic_name, key, value):\n",
    "    try:\n",
    "        key_bytes = bytes(key, encoding='utf-8')\n",
    "        value_bytes = bytes(value, encoding='utf-8')\n",
    "        producer_instance.send(topic_name, key=key_bytes, value=value_bytes)\n",
    "        producer_instance.flush()\n",
    "        print('Message published successfully. Data: ' + json.dumps(line))\n",
    "    except Exception as ex:\n",
    "        print('Exception in publishing message.')\n",
    "        print(str(ex))\n",
    "        \n",
    "def connect_kafka_producer():\n",
    "    _producer = None\n",
    "    try:\n",
    "        _producer = KafkaProducer(bootstrap_servers=['127.0.0.1:9092'],\n",
    "                                  api_version=(0, 10))\n",
    "    except Exception as ex:\n",
    "        print('Exception while connecting Kafka.')\n",
    "        print(str(ex))\n",
    "    finally:\n",
    "        return _producer\n",
    "    \n",
    "if __name__ == '__main__':\n",
    "   \n",
    "    topic = 'fire'\n",
    "    \n",
    "    print('Publishing records..')\n",
    "    producer = connect_kafka_producer()\n",
    "    while(True):\n",
    "        line = lines[random.randrange(len(lines))]\n",
    "        line.update({\"created_time\":str(datetime.datetime.now())})  \n",
    "#     print(line)\n",
    "        publish_message(producer, topic, 'parsed', json.dumps(line))\n",
    "        sleep(5)"
   ]
  },
  {
   "cell_type": "code",
   "execution_count": null,
   "metadata": {},
   "outputs": [],
   "source": []
  }
 ],
 "metadata": {
  "kernelspec": {
   "display_name": "Python 3",
   "language": "python",
   "name": "python3"
  },
  "language_info": {
   "codemirror_mode": {
    "name": "ipython",
    "version": 3
   },
   "file_extension": ".py",
   "mimetype": "text/x-python",
   "name": "python",
   "nbconvert_exporter": "python",
   "pygments_lexer": "ipython3",
   "version": "3.5.2"
  }
 },
 "nbformat": 4,
 "nbformat_minor": 2
}
